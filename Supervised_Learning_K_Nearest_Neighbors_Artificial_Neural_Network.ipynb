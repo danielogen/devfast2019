{
 "cells": [
  {
   "cell_type": "markdown",
   "metadata": {},
   "source": [
    "# Supervised Learning - K Nearest Neighbors and Artificial Neural Network"
   ]
  },
  {
   "cell_type": "markdown",
   "metadata": {},
   "source": [
    "## Introduction\n",
    "\n",
    "We will be using customer churn data from the telecom industry. The data file is called \n",
    "`Orange_Telecom_Churn_Data.csv`. We will load this data together, do some preprocessing, and use K-nearest neighbors to predict customer churn based on account characteristics."
   ]
  },
  {
   "cell_type": "code",
   "execution_count": 19,
   "metadata": {
    "ExecuteTime": {
     "end_time": "2017-03-09T17:11:00.462641Z",
     "start_time": "2017-03-09T12:11:00.457060-05:00"
    }
   },
   "outputs": [],
   "source": [
    "from __future__ import print_function\n",
    "import os\n",
    "data_path = ['DataSet']"
   ]
  },
  {
   "cell_type": "markdown",
   "metadata": {},
   "source": [
    "\n",
    "* Begin by importing the data. Examine the columns and data.\n",
    "* Notice that the data contains a state, area code, and phone number. Do you think these are good features to use when building a machine learning model? Why or why not? "
   ]
  },
  {
   "cell_type": "code",
   "execution_count": 20,
   "metadata": {
    "ExecuteTime": {
     "end_time": "2017-03-09T17:11:00.913456Z",
     "start_time": "2017-03-09T12:11:00.883452-05:00"
    }
   },
   "outputs": [],
   "source": [
    "import pandas as pd\n",
    "\n",
    "# Import the data using the file path\n",
    "filepath = os.sep.join(data_path + ['Orange_Telecom_Churn_Data.csv'])\n",
    "data = pd.read_csv(filepath)"
   ]
  },
  {
   "cell_type": "code",
   "execution_count": 21,
   "metadata": {
    "ExecuteTime": {
     "end_time": "2017-03-09T17:11:01.087485Z",
     "start_time": "2017-03-09T12:11:01.075442-05:00"
    }
   },
   "outputs": [
    {
     "data": {
      "text/html": [
       "<div>\n",
       "<style scoped>\n",
       "    .dataframe tbody tr th:only-of-type {\n",
       "        vertical-align: middle;\n",
       "    }\n",
       "\n",
       "    .dataframe tbody tr th {\n",
       "        vertical-align: top;\n",
       "    }\n",
       "\n",
       "    .dataframe thead th {\n",
       "        text-align: right;\n",
       "    }\n",
       "</style>\n",
       "<table border=\"1\" class=\"dataframe\">\n",
       "  <thead>\n",
       "    <tr style=\"text-align: right;\">\n",
       "      <th></th>\n",
       "      <th>state</th>\n",
       "      <th>account_length</th>\n",
       "      <th>area_code</th>\n",
       "      <th>phone_number</th>\n",
       "      <th>intl_plan</th>\n",
       "      <th>voice_mail_plan</th>\n",
       "      <th>number_vmail_messages</th>\n",
       "      <th>total_day_minutes</th>\n",
       "      <th>total_day_calls</th>\n",
       "      <th>total_day_charge</th>\n",
       "      <th>...</th>\n",
       "      <th>total_eve_calls</th>\n",
       "      <th>total_eve_charge</th>\n",
       "      <th>total_night_minutes</th>\n",
       "      <th>total_night_calls</th>\n",
       "      <th>total_night_charge</th>\n",
       "      <th>total_intl_minutes</th>\n",
       "      <th>total_intl_calls</th>\n",
       "      <th>total_intl_charge</th>\n",
       "      <th>number_customer_service_calls</th>\n",
       "      <th>churned</th>\n",
       "    </tr>\n",
       "  </thead>\n",
       "  <tbody>\n",
       "    <tr>\n",
       "      <th>0</th>\n",
       "      <td>KS</td>\n",
       "      <td>128</td>\n",
       "      <td>415</td>\n",
       "      <td>382-4657</td>\n",
       "      <td>no</td>\n",
       "      <td>yes</td>\n",
       "      <td>25</td>\n",
       "      <td>265.1</td>\n",
       "      <td>110</td>\n",
       "      <td>45.07</td>\n",
       "      <td>...</td>\n",
       "      <td>99</td>\n",
       "      <td>16.78</td>\n",
       "      <td>244.7</td>\n",
       "      <td>91</td>\n",
       "      <td>11.01</td>\n",
       "      <td>10.0</td>\n",
       "      <td>3</td>\n",
       "      <td>2.70</td>\n",
       "      <td>1</td>\n",
       "      <td>False</td>\n",
       "    </tr>\n",
       "    <tr>\n",
       "      <th>1</th>\n",
       "      <td>OH</td>\n",
       "      <td>107</td>\n",
       "      <td>415</td>\n",
       "      <td>371-7191</td>\n",
       "      <td>no</td>\n",
       "      <td>yes</td>\n",
       "      <td>26</td>\n",
       "      <td>161.6</td>\n",
       "      <td>123</td>\n",
       "      <td>27.47</td>\n",
       "      <td>...</td>\n",
       "      <td>103</td>\n",
       "      <td>16.62</td>\n",
       "      <td>254.4</td>\n",
       "      <td>103</td>\n",
       "      <td>11.45</td>\n",
       "      <td>13.7</td>\n",
       "      <td>3</td>\n",
       "      <td>3.70</td>\n",
       "      <td>1</td>\n",
       "      <td>False</td>\n",
       "    </tr>\n",
       "    <tr>\n",
       "      <th>2</th>\n",
       "      <td>NJ</td>\n",
       "      <td>137</td>\n",
       "      <td>415</td>\n",
       "      <td>358-1921</td>\n",
       "      <td>no</td>\n",
       "      <td>no</td>\n",
       "      <td>0</td>\n",
       "      <td>243.4</td>\n",
       "      <td>114</td>\n",
       "      <td>41.38</td>\n",
       "      <td>...</td>\n",
       "      <td>110</td>\n",
       "      <td>10.30</td>\n",
       "      <td>162.6</td>\n",
       "      <td>104</td>\n",
       "      <td>7.32</td>\n",
       "      <td>12.2</td>\n",
       "      <td>5</td>\n",
       "      <td>3.29</td>\n",
       "      <td>0</td>\n",
       "      <td>False</td>\n",
       "    </tr>\n",
       "    <tr>\n",
       "      <th>3</th>\n",
       "      <td>OH</td>\n",
       "      <td>84</td>\n",
       "      <td>408</td>\n",
       "      <td>375-9999</td>\n",
       "      <td>yes</td>\n",
       "      <td>no</td>\n",
       "      <td>0</td>\n",
       "      <td>299.4</td>\n",
       "      <td>71</td>\n",
       "      <td>50.90</td>\n",
       "      <td>...</td>\n",
       "      <td>88</td>\n",
       "      <td>5.26</td>\n",
       "      <td>196.9</td>\n",
       "      <td>89</td>\n",
       "      <td>8.86</td>\n",
       "      <td>6.6</td>\n",
       "      <td>7</td>\n",
       "      <td>1.78</td>\n",
       "      <td>2</td>\n",
       "      <td>False</td>\n",
       "    </tr>\n",
       "    <tr>\n",
       "      <th>4</th>\n",
       "      <td>OK</td>\n",
       "      <td>75</td>\n",
       "      <td>415</td>\n",
       "      <td>330-6626</td>\n",
       "      <td>yes</td>\n",
       "      <td>no</td>\n",
       "      <td>0</td>\n",
       "      <td>166.7</td>\n",
       "      <td>113</td>\n",
       "      <td>28.34</td>\n",
       "      <td>...</td>\n",
       "      <td>122</td>\n",
       "      <td>12.61</td>\n",
       "      <td>186.9</td>\n",
       "      <td>121</td>\n",
       "      <td>8.41</td>\n",
       "      <td>10.1</td>\n",
       "      <td>3</td>\n",
       "      <td>2.73</td>\n",
       "      <td>3</td>\n",
       "      <td>False</td>\n",
       "    </tr>\n",
       "    <tr>\n",
       "      <th>5</th>\n",
       "      <td>AL</td>\n",
       "      <td>118</td>\n",
       "      <td>510</td>\n",
       "      <td>391-8027</td>\n",
       "      <td>yes</td>\n",
       "      <td>no</td>\n",
       "      <td>0</td>\n",
       "      <td>223.4</td>\n",
       "      <td>98</td>\n",
       "      <td>37.98</td>\n",
       "      <td>...</td>\n",
       "      <td>101</td>\n",
       "      <td>18.75</td>\n",
       "      <td>203.9</td>\n",
       "      <td>118</td>\n",
       "      <td>9.18</td>\n",
       "      <td>6.3</td>\n",
       "      <td>6</td>\n",
       "      <td>1.70</td>\n",
       "      <td>0</td>\n",
       "      <td>False</td>\n",
       "    </tr>\n",
       "    <tr>\n",
       "      <th>6</th>\n",
       "      <td>MA</td>\n",
       "      <td>121</td>\n",
       "      <td>510</td>\n",
       "      <td>355-9993</td>\n",
       "      <td>no</td>\n",
       "      <td>yes</td>\n",
       "      <td>24</td>\n",
       "      <td>218.2</td>\n",
       "      <td>88</td>\n",
       "      <td>37.09</td>\n",
       "      <td>...</td>\n",
       "      <td>108</td>\n",
       "      <td>29.62</td>\n",
       "      <td>212.6</td>\n",
       "      <td>118</td>\n",
       "      <td>9.57</td>\n",
       "      <td>7.5</td>\n",
       "      <td>7</td>\n",
       "      <td>2.03</td>\n",
       "      <td>3</td>\n",
       "      <td>False</td>\n",
       "    </tr>\n",
       "    <tr>\n",
       "      <th>7</th>\n",
       "      <td>MO</td>\n",
       "      <td>147</td>\n",
       "      <td>415</td>\n",
       "      <td>329-9001</td>\n",
       "      <td>yes</td>\n",
       "      <td>no</td>\n",
       "      <td>0</td>\n",
       "      <td>157.0</td>\n",
       "      <td>79</td>\n",
       "      <td>26.69</td>\n",
       "      <td>...</td>\n",
       "      <td>94</td>\n",
       "      <td>8.76</td>\n",
       "      <td>211.8</td>\n",
       "      <td>96</td>\n",
       "      <td>9.53</td>\n",
       "      <td>7.1</td>\n",
       "      <td>6</td>\n",
       "      <td>1.92</td>\n",
       "      <td>0</td>\n",
       "      <td>False</td>\n",
       "    </tr>\n",
       "    <tr>\n",
       "      <th>8</th>\n",
       "      <td>LA</td>\n",
       "      <td>117</td>\n",
       "      <td>408</td>\n",
       "      <td>335-4719</td>\n",
       "      <td>no</td>\n",
       "      <td>no</td>\n",
       "      <td>0</td>\n",
       "      <td>184.5</td>\n",
       "      <td>97</td>\n",
       "      <td>31.37</td>\n",
       "      <td>...</td>\n",
       "      <td>80</td>\n",
       "      <td>29.89</td>\n",
       "      <td>215.8</td>\n",
       "      <td>90</td>\n",
       "      <td>9.71</td>\n",
       "      <td>8.7</td>\n",
       "      <td>4</td>\n",
       "      <td>2.35</td>\n",
       "      <td>1</td>\n",
       "      <td>False</td>\n",
       "    </tr>\n",
       "    <tr>\n",
       "      <th>9</th>\n",
       "      <td>WV</td>\n",
       "      <td>141</td>\n",
       "      <td>415</td>\n",
       "      <td>330-8173</td>\n",
       "      <td>yes</td>\n",
       "      <td>yes</td>\n",
       "      <td>37</td>\n",
       "      <td>258.6</td>\n",
       "      <td>84</td>\n",
       "      <td>43.96</td>\n",
       "      <td>...</td>\n",
       "      <td>111</td>\n",
       "      <td>18.87</td>\n",
       "      <td>326.4</td>\n",
       "      <td>97</td>\n",
       "      <td>14.69</td>\n",
       "      <td>11.2</td>\n",
       "      <td>5</td>\n",
       "      <td>3.02</td>\n",
       "      <td>0</td>\n",
       "      <td>False</td>\n",
       "    </tr>\n",
       "  </tbody>\n",
       "</table>\n",
       "<p>10 rows × 21 columns</p>\n",
       "</div>"
      ],
      "text/plain": [
       "  state  account_length  area_code phone_number intl_plan voice_mail_plan  \\\n",
       "0    KS             128        415     382-4657        no             yes   \n",
       "1    OH             107        415     371-7191        no             yes   \n",
       "2    NJ             137        415     358-1921        no              no   \n",
       "3    OH              84        408     375-9999       yes              no   \n",
       "4    OK              75        415     330-6626       yes              no   \n",
       "5    AL             118        510     391-8027       yes              no   \n",
       "6    MA             121        510     355-9993        no             yes   \n",
       "7    MO             147        415     329-9001       yes              no   \n",
       "8    LA             117        408     335-4719        no              no   \n",
       "9    WV             141        415     330-8173       yes             yes   \n",
       "\n",
       "   number_vmail_messages  total_day_minutes  total_day_calls  \\\n",
       "0                     25              265.1              110   \n",
       "1                     26              161.6              123   \n",
       "2                      0              243.4              114   \n",
       "3                      0              299.4               71   \n",
       "4                      0              166.7              113   \n",
       "5                      0              223.4               98   \n",
       "6                     24              218.2               88   \n",
       "7                      0              157.0               79   \n",
       "8                      0              184.5               97   \n",
       "9                     37              258.6               84   \n",
       "\n",
       "   total_day_charge   ...     total_eve_calls  total_eve_charge  \\\n",
       "0             45.07   ...                  99             16.78   \n",
       "1             27.47   ...                 103             16.62   \n",
       "2             41.38   ...                 110             10.30   \n",
       "3             50.90   ...                  88              5.26   \n",
       "4             28.34   ...                 122             12.61   \n",
       "5             37.98   ...                 101             18.75   \n",
       "6             37.09   ...                 108             29.62   \n",
       "7             26.69   ...                  94              8.76   \n",
       "8             31.37   ...                  80             29.89   \n",
       "9             43.96   ...                 111             18.87   \n",
       "\n",
       "   total_night_minutes  total_night_calls  total_night_charge  \\\n",
       "0                244.7                 91               11.01   \n",
       "1                254.4                103               11.45   \n",
       "2                162.6                104                7.32   \n",
       "3                196.9                 89                8.86   \n",
       "4                186.9                121                8.41   \n",
       "5                203.9                118                9.18   \n",
       "6                212.6                118                9.57   \n",
       "7                211.8                 96                9.53   \n",
       "8                215.8                 90                9.71   \n",
       "9                326.4                 97               14.69   \n",
       "\n",
       "   total_intl_minutes  total_intl_calls  total_intl_charge  \\\n",
       "0                10.0                 3               2.70   \n",
       "1                13.7                 3               3.70   \n",
       "2                12.2                 5               3.29   \n",
       "3                 6.6                 7               1.78   \n",
       "4                10.1                 3               2.73   \n",
       "5                 6.3                 6               1.70   \n",
       "6                 7.5                 7               2.03   \n",
       "7                 7.1                 6               1.92   \n",
       "8                 8.7                 4               2.35   \n",
       "9                11.2                 5               3.02   \n",
       "\n",
       "   number_customer_service_calls  churned  \n",
       "0                              1    False  \n",
       "1                              1    False  \n",
       "2                              0    False  \n",
       "3                              2    False  \n",
       "4                              3    False  \n",
       "5                              0    False  \n",
       "6                              3    False  \n",
       "7                              0    False  \n",
       "8                              1    False  \n",
       "9                              0    False  \n",
       "\n",
       "[10 rows x 21 columns]"
      ]
     },
     "execution_count": 21,
     "metadata": {},
     "output_type": "execute_result"
    }
   ],
   "source": [
    "data.head(10)"
   ]
  },
  {
   "cell_type": "code",
   "execution_count": 22,
   "metadata": {},
   "outputs": [
    {
     "data": {
      "text/plain": [
       "(5000, 21)"
      ]
     },
     "execution_count": 22,
     "metadata": {},
     "output_type": "execute_result"
    }
   ],
   "source": [
    "data.shape"
   ]
  },
  {
   "cell_type": "code",
   "execution_count": 23,
   "metadata": {
    "ExecuteTime": {
     "end_time": "2017-03-09T17:11:01.564122Z",
     "start_time": "2017-03-09T12:11:01.557967-05:00"
    }
   },
   "outputs": [],
   "source": [
    "# Remove extraneous columns\n",
    "data.drop(['state', 'area_code', 'phone_number'], axis=1, inplace=True)"
   ]
  },
  {
   "cell_type": "code",
   "execution_count": 6,
   "metadata": {
    "ExecuteTime": {
     "end_time": "2017-03-09T17:11:02.585712Z",
     "start_time": "2017-03-09T12:11:02.579981-05:00"
    }
   },
   "outputs": [
    {
     "data": {
      "text/plain": [
       "Index(['account_length', 'intl_plan', 'voice_mail_plan',\n",
       "       'number_vmail_messages', 'total_day_minutes', 'total_day_calls',\n",
       "       'total_day_charge', 'total_eve_minutes', 'total_eve_calls',\n",
       "       'total_eve_charge', 'total_night_minutes', 'total_night_calls',\n",
       "       'total_night_charge', 'total_intl_minutes', 'total_intl_calls',\n",
       "       'total_intl_charge', 'number_customer_service_calls', 'churned'],\n",
       "      dtype='object')"
      ]
     },
     "execution_count": 6,
     "metadata": {},
     "output_type": "execute_result"
    }
   ],
   "source": [
    "data.columns"
   ]
  },
  {
   "cell_type": "code",
   "execution_count": 7,
   "metadata": {},
   "outputs": [
    {
     "data": {
      "text/plain": [
       "(5000, 18)"
      ]
     },
     "execution_count": 7,
     "metadata": {},
     "output_type": "execute_result"
    }
   ],
   "source": [
    "data.shape"
   ]
  },
  {
   "cell_type": "markdown",
   "metadata": {},
   "source": [
    "* Notice that some of the columns are categorical data and some are floats. These features will need to be numerically encoded.\n",
    "* Finally, K-nearest neighbors requires scaled data. Scale the data using one of the scaling methods"
   ]
  },
  {
   "cell_type": "code",
   "execution_count": 8,
   "metadata": {
    "ExecuteTime": {
     "end_time": "2017-03-09T17:11:04.545751Z",
     "start_time": "2017-03-09T12:11:04.509105-05:00"
    }
   },
   "outputs": [],
   "source": [
    "from sklearn.preprocessing import LabelBinarizer\n",
    "\n",
    "lb = LabelBinarizer()\n",
    "\n",
    "for col in ['intl_plan', 'voice_mail_plan', 'churned']:\n",
    "    data[col] = lb.fit_transform(data[col])"
   ]
  },
  {
   "cell_type": "code",
   "execution_count": 9,
   "metadata": {
    "ExecuteTime": {
     "end_time": "2017-03-09T17:11:04.736451Z",
     "start_time": "2017-03-09T12:11:04.718049-05:00"
    }
   },
   "outputs": [],
   "source": [
    "# Mute the sklearn warning\n",
    "import warnings\n",
    "warnings.filterwarnings('ignore', module='sklearn')\n",
    "\n",
    "from sklearn.preprocessing import MinMaxScaler\n",
    "\n",
    "msc = MinMaxScaler()\n",
    "\n",
    "data = pd.DataFrame(msc.fit_transform(data),  # this is an np.array, not a dataframe.\n",
    "                    columns=data.columns)"
   ]
  },
  {
   "cell_type": "markdown",
   "metadata": {},
   "source": [
    "* Separate the feature columns (everything except `churned`) from the label (`churned`). This will create two tables.\n",
    "* Fit a K-nearest neighbors model with a value of `k=3` to this data and predict the outcome on the same data."
   ]
  },
  {
   "cell_type": "code",
   "execution_count": 10,
   "metadata": {
    "ExecuteTime": {
     "end_time": "2017-03-09T17:11:50.280188Z",
     "start_time": "2017-03-09T12:11:50.269326-05:00"
    }
   },
   "outputs": [],
   "source": [
    "# Get a list of all the columns that don't contain the label\n",
    "x_cols = [x for x in data.columns if x != 'churned']\n",
    "\n",
    "# Split the data into two dataframes\n",
    "X_data = data[x_cols]\n",
    "y_data = data['churned']\n",
    "\n",
    "# # alternatively:\n",
    "# X_data = data.copy()\n",
    "# y_data = X_data.pop('churned')"
   ]
  },
  {
   "cell_type": "markdown",
   "metadata": {},
   "source": [
    "#### Train_Test_Split"
   ]
  },
  {
   "cell_type": "code",
   "execution_count": 11,
   "metadata": {},
   "outputs": [],
   "source": [
    "# 70:30\n",
    "from sklearn.model_selection import train_test_split\n",
    "X_train, X_test, y_train, y_test = train_test_split(X_data, y_data, test_size=0.3, random_state=42)"
   ]
  },
  {
   "cell_type": "code",
   "execution_count": 12,
   "metadata": {
    "ExecuteTime": {
     "end_time": "2017-03-09T17:11:50.989446Z",
     "start_time": "2017-03-09T12:11:50.498708-05:00"
    }
   },
   "outputs": [],
   "source": [
    "# Now we can train a K-NN classifier\n",
    "from sklearn.neighbors import KNeighborsClassifier\n",
    "\n",
    "knn = KNeighborsClassifier(n_neighbors=3)\n",
    "\n",
    "knn = knn.fit(X_train, y_train)\n",
    "\n",
    "y_pred = knn.predict(X_test)"
   ]
  },
  {
   "cell_type": "code",
   "execution_count": 13,
   "metadata": {
    "ExecuteTime": {
     "end_time": "2017-03-09T17:11:50.997204Z",
     "start_time": "2017-03-09T12:11:50.991392-05:00"
    }
   },
   "outputs": [],
   "source": [
    "# Function to calculate the % of values that were correctly predicted\n",
    "\n",
    "def accuracy(real, predict):\n",
    "    return sum(real == predict) / float(real.shape[0])"
   ]
  },
  {
   "cell_type": "code",
   "execution_count": 14,
   "metadata": {
    "ExecuteTime": {
     "end_time": "2017-03-09T17:11:51.128466Z",
     "start_time": "2017-03-09T12:11:51.115874-05:00"
    }
   },
   "outputs": [
    {
     "name": "stdout",
     "output_type": "stream",
     "text": [
      "0.8993333333333333\n"
     ]
    }
   ],
   "source": [
    "print(accuracy(y_test, y_pred))"
   ]
  },
  {
   "cell_type": "code",
   "execution_count": 15,
   "metadata": {
    "scrolled": false
   },
   "outputs": [
    {
     "name": "stdout",
     "output_type": "stream",
     "text": [
      "              precision    recall  f1-score   support\n",
      "\n",
      "         0.0       0.91      0.98      0.94      1293\n",
      "         1.0       0.75      0.40      0.52       207\n",
      "\n",
      "   micro avg       0.90      0.90      0.90      1500\n",
      "   macro avg       0.83      0.69      0.73      1500\n",
      "weighted avg       0.89      0.90      0.89      1500\n",
      "\n"
     ]
    }
   ],
   "source": [
    "# classification report\n",
    "from sklearn.metrics import classification_report\n",
    "from sklearn.metrics import confusion_matrix\n",
    "\n",
    "print(classification_report(y_test, y_pred))"
   ]
  },
  {
   "cell_type": "markdown",
   "metadata": {},
   "source": [
    "Let's see if we can improve the accuracy of our `K-NN` model\n",
    "\n",
    "`BE CAREFUL OF OVERFITTING`"
   ]
  },
  {
   "cell_type": "code",
   "execution_count": 16,
   "metadata": {
    "ExecuteTime": {
     "end_time": "2017-03-09T17:11:52.047123Z",
     "start_time": "2017-03-09T12:11:51.538212-05:00"
    }
   },
   "outputs": [
    {
     "name": "stdout",
     "output_type": "stream",
     "text": [
      "1.0\n"
     ]
    }
   ],
   "source": [
    "# Fitting KNN classifier to the training set\n",
    "\n",
    "# This version of the model demos overfitting problem \n",
    "\n",
    "knn = KNeighborsClassifier(n_neighbors = 3, weights = 'distance')\n",
    "knn.fit(X_data, y_data)\n",
    "y_pred = knn.predict(X_data)\n",
    "\n",
    "# Call function to calcuate the % of values that were correctly predicted\n",
    "print(accuracy(y_data, y_pred))"
   ]
  },
  {
   "cell_type": "code",
   "execution_count": 17,
   "metadata": {
    "ExecuteTime": {
     "end_time": "2017-03-09T17:11:52.755941Z",
     "start_time": "2017-03-09T12:11:52.049816-05:00"
    }
   },
   "outputs": [
    {
     "name": "stdout",
     "output_type": "stream",
     "text": [
      "0.9126666666666666\n"
     ]
    }
   ],
   "source": [
    "# Fitting KNN classifier to the training set\n",
    "# p = 1 Manhattan Distance (Default), p = 2 Euclidean Distance \n",
    "knn = KNeighborsClassifier(n_neighbors = 3, weights = 'uniform', metric = 'minkowski', p = 1)\n",
    "knn.fit(X_train, y_train)\n",
    "y_pred = knn.predict(X_test)\n",
    "\n",
    "# Call function to calcuate the % of values that were correctly predicted\n",
    "print(accuracy(y_test, y_pred))"
   ]
  },
  {
   "cell_type": "markdown",
   "metadata": {},
   "source": [
    "### Artificial Neural Network\n",
    "Lets try building a simple `ANN`"
   ]
  },
  {
   "cell_type": "code",
   "execution_count": 18,
   "metadata": {
    "scrolled": true
   },
   "outputs": [
    {
     "name": "stderr",
     "output_type": "stream",
     "text": [
      "Using TensorFlow backend.\n"
     ]
    },
    {
     "name": "stdout",
     "output_type": "stream",
     "text": [
      "WARNING:tensorflow:From /Users/danielogenrwot/.local/lib/python3.7/site-packages/tensorflow/python/framework/op_def_library.py:263: colocate_with (from tensorflow.python.framework.ops) is deprecated and will be removed in a future version.\n",
      "Instructions for updating:\n",
      "Colocations handled automatically by placer.\n",
      "WARNING:tensorflow:From /Users/danielogenrwot/.local/lib/python3.7/site-packages/tensorflow/python/ops/math_ops.py:3066: to_int32 (from tensorflow.python.ops.math_ops) is deprecated and will be removed in a future version.\n",
      "Instructions for updating:\n",
      "Use tf.cast instead.\n",
      "Epoch 1/150\n",
      "3500/3500 [==============================] - 1s 294us/step - loss: 0.4317 - acc: 0.8571\n",
      "Epoch 2/150\n",
      "3500/3500 [==============================] - 1s 192us/step - loss: 0.3887 - acc: 0.8571\n",
      "Epoch 3/150\n",
      "3500/3500 [==============================] - 1s 187us/step - loss: 0.3735 - acc: 0.8571\n",
      "Epoch 4/150\n",
      "3500/3500 [==============================] - 1s 208us/step - loss: 0.3655 - acc: 0.8577\n",
      "Epoch 5/150\n",
      "3500/3500 [==============================] - 1s 202us/step - loss: 0.3534 - acc: 0.8609\n",
      "Epoch 6/150\n",
      "3500/3500 [==============================] - 1s 198us/step - loss: 0.3480 - acc: 0.8583\n",
      "Epoch 7/150\n",
      "3500/3500 [==============================] - 1s 203us/step - loss: 0.3416 - acc: 0.8577\n",
      "Epoch 8/150\n",
      "3500/3500 [==============================] - 1s 201us/step - loss: 0.3344 - acc: 0.8606\n",
      "Epoch 9/150\n",
      "3500/3500 [==============================] - 1s 188us/step - loss: 0.3291 - acc: 0.8626\n",
      "Epoch 10/150\n",
      "3500/3500 [==============================] - 1s 184us/step - loss: 0.3242 - acc: 0.8617\n",
      "Epoch 11/150\n",
      "3500/3500 [==============================] - 1s 186us/step - loss: 0.3161 - acc: 0.8626\n",
      "Epoch 12/150\n",
      "3500/3500 [==============================] - 1s 179us/step - loss: 0.3061 - acc: 0.8669\n",
      "Epoch 13/150\n",
      "3500/3500 [==============================] - 1s 192us/step - loss: 0.2987 - acc: 0.8700\n",
      "Epoch 14/150\n",
      "3500/3500 [==============================] - 1s 203us/step - loss: 0.2884 - acc: 0.8737\n",
      "Epoch 15/150\n",
      "3500/3500 [==============================] - 1s 198us/step - loss: 0.2772 - acc: 0.8817\n",
      "Epoch 16/150\n",
      "3500/3500 [==============================] - 1s 200us/step - loss: 0.2701 - acc: 0.8900\n",
      "Epoch 17/150\n",
      "3500/3500 [==============================] - 1s 195us/step - loss: 0.2628 - acc: 0.8911\n",
      "Epoch 18/150\n",
      "3500/3500 [==============================] - 1s 188us/step - loss: 0.2569 - acc: 0.8986\n",
      "Epoch 19/150\n",
      "3500/3500 [==============================] - 1s 187us/step - loss: 0.2509 - acc: 0.9009\n",
      "Epoch 20/150\n",
      "3500/3500 [==============================] - 1s 186us/step - loss: 0.2471 - acc: 0.9000\n",
      "Epoch 21/150\n",
      "3500/3500 [==============================] - 1s 188us/step - loss: 0.2440 - acc: 0.9023\n",
      "Epoch 22/150\n",
      "3500/3500 [==============================] - 1s 181us/step - loss: 0.2402 - acc: 0.9103\n",
      "Epoch 23/150\n",
      "3500/3500 [==============================] - 1s 186us/step - loss: 0.2370 - acc: 0.9049\n",
      "Epoch 24/150\n",
      "3500/3500 [==============================] - 1s 183us/step - loss: 0.2357 - acc: 0.9091\n",
      "Epoch 25/150\n",
      "3500/3500 [==============================] - 1s 189us/step - loss: 0.2303 - acc: 0.9111\n",
      "Epoch 26/150\n",
      "3500/3500 [==============================] - 1s 178us/step - loss: 0.2285 - acc: 0.9120\n",
      "Epoch 27/150\n",
      "3500/3500 [==============================] - 1s 185us/step - loss: 0.2252 - acc: 0.9140\n",
      "Epoch 28/150\n",
      "3500/3500 [==============================] - 1s 187us/step - loss: 0.2245 - acc: 0.9137\n",
      "Epoch 29/150\n",
      "3500/3500 [==============================] - 1s 187us/step - loss: 0.2226 - acc: 0.9151\n",
      "Epoch 30/150\n",
      "3500/3500 [==============================] - 1s 180us/step - loss: 0.2189 - acc: 0.9143\n",
      "Epoch 31/150\n",
      "3500/3500 [==============================] - 1s 187us/step - loss: 0.2218 - acc: 0.9117\n",
      "Epoch 32/150\n",
      "3500/3500 [==============================] - 1s 179us/step - loss: 0.2177 - acc: 0.9180\n",
      "Epoch 33/150\n",
      "3500/3500 [==============================] - 1s 184us/step - loss: 0.2178 - acc: 0.9171\n",
      "Epoch 34/150\n",
      "3500/3500 [==============================] - 1s 178us/step - loss: 0.2153 - acc: 0.9206\n",
      "Epoch 35/150\n",
      "3500/3500 [==============================] - 1s 183us/step - loss: 0.2129 - acc: 0.9214\n",
      "Epoch 36/150\n",
      "3500/3500 [==============================] - 1s 184us/step - loss: 0.2128 - acc: 0.9197\n",
      "Epoch 37/150\n",
      "3500/3500 [==============================] - 1s 188us/step - loss: 0.2120 - acc: 0.9203\n",
      "Epoch 38/150\n",
      "3500/3500 [==============================] - 1s 182us/step - loss: 0.2115 - acc: 0.9209\n",
      "Epoch 39/150\n",
      "3500/3500 [==============================] - 1s 188us/step - loss: 0.2086 - acc: 0.9231\n",
      "Epoch 40/150\n",
      "3500/3500 [==============================] - 1s 187us/step - loss: 0.2069 - acc: 0.9237\n",
      "Epoch 41/150\n",
      "3500/3500 [==============================] - 1s 181us/step - loss: 0.2058 - acc: 0.9257\n",
      "Epoch 42/150\n",
      "3500/3500 [==============================] - 1s 186us/step - loss: 0.2061 - acc: 0.9251\n",
      "Epoch 43/150\n",
      "3500/3500 [==============================] - 1s 184us/step - loss: 0.2068 - acc: 0.9246\n",
      "Epoch 44/150\n",
      "3500/3500 [==============================] - 1s 184us/step - loss: 0.2032 - acc: 0.9277\n",
      "Epoch 45/150\n",
      "3500/3500 [==============================] - 1s 182us/step - loss: 0.2028 - acc: 0.9234\n",
      "Epoch 46/150\n",
      "3500/3500 [==============================] - 1s 192us/step - loss: 0.2054 - acc: 0.9229\n",
      "Epoch 47/150\n",
      "3500/3500 [==============================] - 1s 178us/step - loss: 0.2039 - acc: 0.9257\n",
      "Epoch 48/150\n",
      "3500/3500 [==============================] - 1s 187us/step - loss: 0.2066 - acc: 0.9237\n",
      "Epoch 49/150\n",
      "3500/3500 [==============================] - 1s 185us/step - loss: 0.2001 - acc: 0.9260\n",
      "Epoch 50/150\n",
      "3500/3500 [==============================] - 1s 199us/step - loss: 0.1989 - acc: 0.9266\n",
      "Epoch 51/150\n",
      "3500/3500 [==============================] - 1s 184us/step - loss: 0.1983 - acc: 0.9274\n",
      "Epoch 52/150\n",
      "3500/3500 [==============================] - 1s 180us/step - loss: 0.1994 - acc: 0.9260\n",
      "Epoch 53/150\n",
      "3500/3500 [==============================] - 1s 185us/step - loss: 0.1992 - acc: 0.9277\n",
      "Epoch 54/150\n",
      "3500/3500 [==============================] - 1s 177us/step - loss: 0.1945 - acc: 0.9269\n",
      "Epoch 55/150\n",
      "3500/3500 [==============================] - 1s 174us/step - loss: 0.1974 - acc: 0.9286\n",
      "Epoch 56/150\n",
      "3500/3500 [==============================] - 1s 188us/step - loss: 0.1963 - acc: 0.9274\n",
      "Epoch 57/150\n",
      "3500/3500 [==============================] - 1s 182us/step - loss: 0.1943 - acc: 0.9294\n",
      "Epoch 58/150\n",
      "3500/3500 [==============================] - 1s 186us/step - loss: 0.1938 - acc: 0.9269\n",
      "Epoch 59/150\n",
      "3500/3500 [==============================] - 1s 188us/step - loss: 0.1921 - acc: 0.9309\n",
      "Epoch 60/150\n",
      "3500/3500 [==============================] - 1s 194us/step - loss: 0.1918 - acc: 0.9340\n",
      "Epoch 61/150\n",
      "3500/3500 [==============================] - 1s 210us/step - loss: 0.1932 - acc: 0.9306\n",
      "Epoch 62/150\n",
      "3500/3500 [==============================] - 1s 205us/step - loss: 0.1921 - acc: 0.9300\n",
      "Epoch 63/150\n",
      "3500/3500 [==============================] - 1s 185us/step - loss: 0.1909 - acc: 0.9340\n",
      "Epoch 64/150\n",
      "3500/3500 [==============================] - 1s 184us/step - loss: 0.1911 - acc: 0.9346\n",
      "Epoch 65/150\n",
      "3500/3500 [==============================] - 1s 184us/step - loss: 0.1938 - acc: 0.9274\n",
      "Epoch 66/150\n",
      "3500/3500 [==============================] - 1s 178us/step - loss: 0.1903 - acc: 0.9309\n",
      "Epoch 67/150\n",
      "3500/3500 [==============================] - 1s 185us/step - loss: 0.1891 - acc: 0.9309\n",
      "Epoch 68/150\n",
      "3500/3500 [==============================] - 1s 185us/step - loss: 0.1941 - acc: 0.9309\n",
      "Epoch 69/150\n",
      "3500/3500 [==============================] - 1s 204us/step - loss: 0.1886 - acc: 0.9320\n",
      "Epoch 70/150\n",
      "3500/3500 [==============================] - 1s 185us/step - loss: 0.1878 - acc: 0.9337\n",
      "Epoch 71/150\n",
      "3500/3500 [==============================] - 1s 182us/step - loss: 0.1867 - acc: 0.9346\n",
      "Epoch 72/150\n",
      "3500/3500 [==============================] - 1s 184us/step - loss: 0.1862 - acc: 0.9317\n",
      "Epoch 73/150\n",
      "3500/3500 [==============================] - 1s 184us/step - loss: 0.1857 - acc: 0.9337\n",
      "Epoch 74/150\n",
      "3500/3500 [==============================] - 1s 183us/step - loss: 0.1870 - acc: 0.9343\n",
      "Epoch 75/150\n",
      "3500/3500 [==============================] - 1s 182us/step - loss: 0.1863 - acc: 0.9323\n",
      "Epoch 76/150\n"
     ]
    },
    {
     "name": "stdout",
     "output_type": "stream",
     "text": [
      "3500/3500 [==============================] - 1s 183us/step - loss: 0.1850 - acc: 0.9354\n",
      "Epoch 77/150\n",
      "3500/3500 [==============================] - 1s 177us/step - loss: 0.1831 - acc: 0.9363\n",
      "Epoch 78/150\n",
      "3500/3500 [==============================] - 1s 171us/step - loss: 0.1843 - acc: 0.9354\n",
      "Epoch 79/150\n",
      "3500/3500 [==============================] - 1s 161us/step - loss: 0.1835 - acc: 0.9354\n",
      "Epoch 80/150\n",
      "3500/3500 [==============================] - 1s 174us/step - loss: 0.1836 - acc: 0.9349\n",
      "Epoch 81/150\n",
      "3500/3500 [==============================] - 1s 182us/step - loss: 0.1827 - acc: 0.9369\n",
      "Epoch 82/150\n",
      "3500/3500 [==============================] - 1s 225us/step - loss: 0.1844 - acc: 0.9351\n",
      "Epoch 83/150\n",
      "3500/3500 [==============================] - 1s 182us/step - loss: 0.1817 - acc: 0.9360\n",
      "Epoch 84/150\n",
      "3500/3500 [==============================] - 1s 182us/step - loss: 0.1836 - acc: 0.9323\n",
      "Epoch 85/150\n",
      "3500/3500 [==============================] - 1s 182us/step - loss: 0.1811 - acc: 0.9340\n",
      "Epoch 86/150\n",
      "3500/3500 [==============================] - 1s 182us/step - loss: 0.1817 - acc: 0.9360\n",
      "Epoch 87/150\n",
      "3500/3500 [==============================] - 1s 185us/step - loss: 0.1807 - acc: 0.9360\n",
      "Epoch 88/150\n",
      "3500/3500 [==============================] - 1s 181us/step - loss: 0.1806 - acc: 0.9331\n",
      "Epoch 89/150\n",
      "3500/3500 [==============================] - 1s 179us/step - loss: 0.1786 - acc: 0.9369\n",
      "Epoch 90/150\n",
      "3500/3500 [==============================] - 1s 184us/step - loss: 0.1774 - acc: 0.9366\n",
      "Epoch 91/150\n",
      "3500/3500 [==============================] - 1s 181us/step - loss: 0.1789 - acc: 0.9343\n",
      "Epoch 92/150\n",
      "3500/3500 [==============================] - 1s 181us/step - loss: 0.1800 - acc: 0.9369\n",
      "Epoch 93/150\n",
      "3500/3500 [==============================] - 1s 189us/step - loss: 0.1781 - acc: 0.9357\n",
      "Epoch 94/150\n",
      "3500/3500 [==============================] - 1s 195us/step - loss: 0.1777 - acc: 0.9360\n",
      "Epoch 95/150\n",
      "3500/3500 [==============================] - 1s 184us/step - loss: 0.1758 - acc: 0.9391\n",
      "Epoch 96/150\n",
      "3500/3500 [==============================] - 1s 188us/step - loss: 0.1752 - acc: 0.9383\n",
      "Epoch 97/150\n",
      "3500/3500 [==============================] - 1s 189us/step - loss: 0.1755 - acc: 0.9389\n",
      "Epoch 98/150\n",
      "3500/3500 [==============================] - 1s 184us/step - loss: 0.1767 - acc: 0.9357\n",
      "Epoch 99/150\n",
      "3500/3500 [==============================] - 1s 180us/step - loss: 0.1756 - acc: 0.9394\n",
      "Epoch 100/150\n",
      "3500/3500 [==============================] - 1s 186us/step - loss: 0.1826 - acc: 0.9331\n",
      "Epoch 101/150\n",
      "3500/3500 [==============================] - 1s 180us/step - loss: 0.1741 - acc: 0.9391\n",
      "Epoch 102/150\n",
      "3500/3500 [==============================] - 1s 191us/step - loss: 0.1756 - acc: 0.9374\n",
      "Epoch 103/150\n",
      "3500/3500 [==============================] - 1s 182us/step - loss: 0.1724 - acc: 0.9391\n",
      "Epoch 104/150\n",
      "3500/3500 [==============================] - 1s 182us/step - loss: 0.1732 - acc: 0.9397\n",
      "Epoch 105/150\n",
      "3500/3500 [==============================] - 1s 184us/step - loss: 0.1724 - acc: 0.9403\n",
      "Epoch 106/150\n",
      "3500/3500 [==============================] - 1s 177us/step - loss: 0.1741 - acc: 0.9400\n",
      "Epoch 107/150\n",
      "3500/3500 [==============================] - 1s 172us/step - loss: 0.1737 - acc: 0.9380\n",
      "Epoch 108/150\n",
      "3500/3500 [==============================] - 1s 173us/step - loss: 0.1707 - acc: 0.9417\n",
      "Epoch 109/150\n",
      "3500/3500 [==============================] - 1s 187us/step - loss: 0.1767 - acc: 0.9360\n",
      "Epoch 110/150\n",
      "3500/3500 [==============================] - 1s 181us/step - loss: 0.1753 - acc: 0.9377\n",
      "Epoch 111/150\n",
      "3500/3500 [==============================] - 1s 180us/step - loss: 0.1711 - acc: 0.9383\n",
      "Epoch 112/150\n",
      "3500/3500 [==============================] - 1s 178us/step - loss: 0.1727 - acc: 0.9374\n",
      "Epoch 113/150\n",
      "3500/3500 [==============================] - 1s 178us/step - loss: 0.1730 - acc: 0.9389\n",
      "Epoch 114/150\n",
      "3500/3500 [==============================] - 1s 183us/step - loss: 0.1706 - acc: 0.9391\n",
      "Epoch 115/150\n",
      "3500/3500 [==============================] - 1s 180us/step - loss: 0.1696 - acc: 0.9411\n",
      "Epoch 116/150\n",
      "3500/3500 [==============================] - 1s 181us/step - loss: 0.1697 - acc: 0.9389\n",
      "Epoch 117/150\n",
      "3500/3500 [==============================] - 1s 185us/step - loss: 0.1708 - acc: 0.9391\n",
      "Epoch 118/150\n",
      "3500/3500 [==============================] - 1s 185us/step - loss: 0.1694 - acc: 0.9400\n",
      "Epoch 119/150\n",
      "3500/3500 [==============================] - 1s 182us/step - loss: 0.1715 - acc: 0.9377\n",
      "Epoch 120/150\n",
      "3500/3500 [==============================] - 1s 182us/step - loss: 0.1709 - acc: 0.9394\n",
      "Epoch 121/150\n",
      "3500/3500 [==============================] - 1s 179us/step - loss: 0.1709 - acc: 0.9394\n",
      "Epoch 122/150\n",
      "3500/3500 [==============================] - 1s 182us/step - loss: 0.1673 - acc: 0.9400\n",
      "Epoch 123/150\n",
      "3500/3500 [==============================] - 1s 176us/step - loss: 0.1740 - acc: 0.9389\n",
      "Epoch 124/150\n",
      "3500/3500 [==============================] - 1s 171us/step - loss: 0.1676 - acc: 0.9391\n",
      "Epoch 125/150\n",
      "3500/3500 [==============================] - 1s 181us/step - loss: 0.1668 - acc: 0.9400\n",
      "Epoch 126/150\n",
      "3500/3500 [==============================] - 1s 177us/step - loss: 0.1694 - acc: 0.9403\n",
      "Epoch 127/150\n",
      "3500/3500 [==============================] - 1s 181us/step - loss: 0.1688 - acc: 0.9403\n",
      "Epoch 128/150\n",
      "3500/3500 [==============================] - 1s 190us/step - loss: 0.1671 - acc: 0.9409\n",
      "Epoch 129/150\n",
      "3500/3500 [==============================] - 1s 182us/step - loss: 0.1671 - acc: 0.9403\n",
      "Epoch 130/150\n",
      "3500/3500 [==============================] - 1s 185us/step - loss: 0.1728 - acc: 0.9380\n",
      "Epoch 131/150\n",
      "3500/3500 [==============================] - 1s 183us/step - loss: 0.1651 - acc: 0.9434\n",
      "Epoch 132/150\n",
      "3500/3500 [==============================] - 1s 184us/step - loss: 0.1664 - acc: 0.9429\n",
      "Epoch 133/150\n",
      "3500/3500 [==============================] - 1s 185us/step - loss: 0.1660 - acc: 0.9406\n",
      "Epoch 134/150\n",
      "3500/3500 [==============================] - 1s 178us/step - loss: 0.1708 - acc: 0.9343\n",
      "Epoch 135/150\n",
      "3500/3500 [==============================] - 1s 172us/step - loss: 0.1676 - acc: 0.9431\n",
      "Epoch 136/150\n",
      "3500/3500 [==============================] - 1s 174us/step - loss: 0.1658 - acc: 0.9397\n",
      "Epoch 137/150\n",
      "3500/3500 [==============================] - 1s 184us/step - loss: 0.1708 - acc: 0.9369\n",
      "Epoch 138/150\n",
      "3500/3500 [==============================] - 1s 176us/step - loss: 0.1659 - acc: 0.9417\n",
      "Epoch 139/150\n",
      "3500/3500 [==============================] - 1s 180us/step - loss: 0.1619 - acc: 0.9434\n",
      "Epoch 140/150\n",
      "3500/3500 [==============================] - 1s 178us/step - loss: 0.1687 - acc: 0.9394\n",
      "Epoch 141/150\n",
      "3500/3500 [==============================] - 1s 183us/step - loss: 0.1655 - acc: 0.9383\n",
      "Epoch 142/150\n",
      "3500/3500 [==============================] - 1s 185us/step - loss: 0.1680 - acc: 0.9391\n",
      "Epoch 143/150\n",
      "3500/3500 [==============================] - 1s 180us/step - loss: 0.1653 - acc: 0.9423\n",
      "Epoch 144/150\n",
      "3500/3500 [==============================] - 1s 183us/step - loss: 0.1632 - acc: 0.9440\n",
      "Epoch 145/150\n",
      "3500/3500 [==============================] - 1s 184us/step - loss: 0.1636 - acc: 0.9434\n",
      "Epoch 146/150\n",
      "3500/3500 [==============================] - 1s 182us/step - loss: 0.1666 - acc: 0.9406\n",
      "Epoch 147/150\n",
      "3500/3500 [==============================] - 1s 182us/step - loss: 0.1638 - acc: 0.9426\n",
      "Epoch 148/150\n",
      "3500/3500 [==============================] - 1s 179us/step - loss: 0.1693 - acc: 0.9403\n",
      "Epoch 149/150\n",
      "3500/3500 [==============================] - 1s 164us/step - loss: 0.1653 - acc: 0.9423\n",
      "Epoch 150/150\n",
      "3500/3500 [==============================] - 1s 185us/step - loss: 0.1658 - acc: 0.9426\n",
      "1500/1500 [==============================] - 0s 49us/step\n",
      "Accuracy: 93.53\n"
     ]
    }
   ],
   "source": [
    "# Neural Network\n",
    "# 1. Load Data.\n",
    "# 2. Define Keras Model.\n",
    "# 3. Compile Keras Model.\n",
    "# 4. Fit Keras Model.\n",
    "# 5. Evaluate Keras Model.\n",
    "# 6. Make Predictions\n",
    "\n",
    "from keras.models import Sequential \n",
    "from keras.layers import Dense\n",
    "\n",
    "# load the dataset (already done )\n",
    "# split into input (X) and output (y) variables (already done)\n",
    "\n",
    "# define the keras model\n",
    "model = Sequential()\n",
    "model.add(Dense(17, input_dim=17, activation='relu'))\n",
    "model.add(Dense(12, activation='relu'))\n",
    "model.add(Dense(5, activation='relu'))\n",
    "model.add(Dense(1, activation='sigmoid'))\n",
    "\n",
    "# compile the keras model\n",
    "model.compile(loss='binary_crossentropy', optimizer='adam', metrics=['accuracy'])\n",
    "\n",
    "# fit the keras model on the dataset\n",
    "model.fit(X_train, y_train, epochs=150, batch_size=10)\n",
    "\n",
    "# evaluate the keras model\n",
    "_, accuracy = model.evaluate(X_test, y_test)\n",
    "print('Accuracy: %.2f' % (accuracy*100))"
   ]
  },
  {
   "cell_type": "code",
   "execution_count": null,
   "metadata": {},
   "outputs": [],
   "source": []
  }
 ],
 "metadata": {
  "anaconda-cloud": {},
  "kernelspec": {
   "display_name": "Python 3",
   "language": "python",
   "name": "python3"
  },
  "language_info": {
   "codemirror_mode": {
    "name": "ipython",
    "version": 3
   },
   "file_extension": ".py",
   "mimetype": "text/x-python",
   "name": "python",
   "nbconvert_exporter": "python",
   "pygments_lexer": "ipython3",
   "version": "3.7.2"
  },
  "name": "Linear_Regression_and_K_Nearest_Neighbors_Exercises-ANSWERS",
  "notebookId": 2125319687183902
 },
 "nbformat": 4,
 "nbformat_minor": 1
}
